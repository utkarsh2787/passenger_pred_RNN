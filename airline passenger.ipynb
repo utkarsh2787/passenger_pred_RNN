{
 "cells": [
  {
   "cell_type": "code",
   "execution_count": 20,
   "metadata": {},
   "outputs": [],
   "source": [
    "import pandas as pd\n",
    "import numpy as np"
   ]
  },
  {
   "cell_type": "code",
   "execution_count": 33,
   "metadata": {},
   "outputs": [],
   "source": [
    "df=pd.read_csv('Downloads/international-airline-passengers.csv',usecols=[1])"
   ]
  },
  {
   "cell_type": "code",
   "execution_count": 35,
   "metadata": {},
   "outputs": [],
   "source": [
    "vlues=df.values.astype(int)"
   ]
  },
  {
   "cell_type": "code",
   "execution_count": 37,
   "metadata": {},
   "outputs": [],
   "source": [
    "from sklearn.model_selection import train_test_split"
   ]
  },
  {
   "cell_type": "code",
   "execution_count": 38,
   "metadata": {},
   "outputs": [],
   "source": [
    "x_train=vlues[:100]"
   ]
  },
  {
   "cell_type": "code",
   "execution_count": 39,
   "metadata": {},
   "outputs": [],
   "source": [
    "x_test=vlues[100:]"
   ]
  },
  {
   "cell_type": "code",
   "execution_count": 40,
   "metadata": {},
   "outputs": [],
   "source": [
    "from sklearn.preprocessing import MinMaxScaler"
   ]
  },
  {
   "cell_type": "code",
   "execution_count": 41,
   "metadata": {},
   "outputs": [],
   "source": [
    "sc=MinMaxScaler()"
   ]
  },
  {
   "cell_type": "code",
   "execution_count": 42,
   "metadata": {},
   "outputs": [],
   "source": [
    "x_train=sc.fit_transform(x_train)"
   ]
  },
  {
   "cell_type": "code",
   "execution_count": 43,
   "metadata": {},
   "outputs": [],
   "source": [
    "x_test=sc.transform(x_test)"
   ]
  },
  {
   "cell_type": "code",
   "execution_count": 48,
   "metadata": {},
   "outputs": [],
   "source": [
    "def create_dataset(data,k):\n",
    "    datax,datay=[],[]\n",
    "    for i in range(len(data)-k):\n",
    "        x=data[i:i+k,0]\n",
    "        y=data[i+k,0]\n",
    "        datax.append(x)\n",
    "        datay.append(y)\n",
    "    return np.array(datax),np.array(datay)"
   ]
  },
  {
   "cell_type": "code",
   "execution_count": 55,
   "metadata": {},
   "outputs": [],
   "source": [
    "test_x,test_y=create_dataset(x_test,12)\n",
    "train_x,train_y=create_dataset(x_train,12)"
   ]
  },
  {
   "cell_type": "code",
   "execution_count": 57,
   "metadata": {},
   "outputs": [],
   "source": [
    "from keras.models import Sequential\n",
    "from keras.layers import SimpleRNN,Dense\n",
    "train_x=np.reshape(train_x,(train_x.shape[0],train_x.shape[1],1))\n",
    "test_x=np.reshape(test_x,(test_x.shape[0],test_x.shape[1],1))"
   ]
  },
  {
   "cell_type": "code",
   "execution_count": 52,
   "metadata": {},
   "outputs": [],
   "source": [
    "model=Sequential()"
   ]
  },
  {
   "cell_type": "code",
   "execution_count": 58,
   "metadata": {},
   "outputs": [
    {
     "name": "stdout",
     "output_type": "stream",
     "text": [
      "Epoch 1/50\n",
      "88/88 [==============================] - 27s 18ms/step - loss: 0.0494\n",
      "Epoch 2/50\n",
      "88/88 [==============================] - 2s 17ms/step - loss: 0.0292\n",
      "Epoch 3/50\n",
      "88/88 [==============================] - 1s 16ms/step - loss: 0.0243\n",
      "Epoch 4/50\n",
      "88/88 [==============================] - 2s 18ms/step - loss: 0.0223: 0s - loss: 0.022\n",
      "Epoch 5/50\n",
      "88/88 [==============================] - 2s 17ms/step - loss: 0.0201\n",
      "Epoch 6/50\n",
      "88/88 [==============================] - 2s 25ms/step - loss: 0.0189\n",
      "Epoch 7/50\n",
      "88/88 [==============================] - 2s 21ms/step - loss: 0.0175\n",
      "Epoch 8/50\n",
      "88/88 [==============================] - 2s 20ms/step - loss: 0.0166\n",
      "Epoch 9/50\n",
      "88/88 [==============================] - 2s 18ms/step - loss: 0.0154\n",
      "Epoch 10/50\n",
      "88/88 [==============================] - 2s 18ms/step - loss: 0.0153: 0s - \n",
      "Epoch 11/50\n",
      "88/88 [==============================] - 2s 19ms/step - loss: 0.0147\n",
      "Epoch 12/50\n",
      "88/88 [==============================] - 2s 19ms/step - loss: 0.0137\n",
      "Epoch 13/50\n",
      "88/88 [==============================] - 2s 20ms/step - loss: 0.0129: 0\n",
      "Epoch 14/50\n",
      "88/88 [==============================] - 2s 19ms/step - loss: 0.0126\n",
      "Epoch 15/50\n",
      "88/88 [==============================] - 2s 19ms/step - loss: 0.0120\n",
      "Epoch 16/50\n",
      "88/88 [==============================] - 2s 20ms/step - loss: 0.0117\n",
      "Epoch 17/50\n",
      "88/88 [==============================] - 2s 20ms/step - loss: 0.0113\n",
      "Epoch 18/50\n",
      "88/88 [==============================] - 2s 19ms/step - loss: 0.0107: 0s \n",
      "Epoch 19/50\n",
      "88/88 [==============================] - 2s 19ms/step - loss: 0.0102\n",
      "Epoch 20/50\n",
      "88/88 [==============================] - 2s 21ms/step - loss: 0.0100\n",
      "Epoch 21/50\n",
      "88/88 [==============================] - 2s 17ms/step - loss: 0.0094: 0s - lo\n",
      "Epoch 22/50\n",
      "88/88 [==============================] - 2s 19ms/step - loss: 0.0095\n",
      "Epoch 23/50\n",
      "88/88 [==============================] - 2s 20ms/step - loss: 0.0088\n",
      "Epoch 24/50\n",
      "88/88 [==============================] - 2s 18ms/step - loss: 0.0086: 0s - loss\n",
      "Epoch 25/50\n",
      "88/88 [==============================] - 2s 22ms/step - loss: 0.0081: 0s - loss: 0.008\n",
      "Epoch 26/50\n",
      "88/88 [==============================] - 2s 21ms/step - loss: 0.0083: 0s - l\n",
      "Epoch 27/50\n",
      "88/88 [==============================] - 2s 18ms/step - loss: 0.0081 - ETA: 0s - loss: 0.\n",
      "Epoch 28/50\n",
      "88/88 [==============================] - 2s 22ms/step - loss: 0.0079\n",
      "Epoch 29/50\n",
      "88/88 [==============================] - 2s 18ms/step - loss: 0.0071\n",
      "Epoch 30/50\n",
      "88/88 [==============================] - 1s 17ms/step - loss: 0.0068\n",
      "Epoch 31/50\n",
      "88/88 [==============================] - 2s 20ms/step - loss: 0.0068\n",
      "Epoch 32/50\n",
      "88/88 [==============================] - 2s 19ms/step - loss: 0.0065\n",
      "Epoch 33/50\n",
      "88/88 [==============================] - 2s 18ms/step - loss: 0.0062\n",
      "Epoch 34/50\n",
      "88/88 [==============================] - 2s 18ms/step - loss: 0.0065\n",
      "Epoch 35/50\n",
      "88/88 [==============================] - 2s 18ms/step - loss: 0.0062\n",
      "Epoch 36/50\n",
      "88/88 [==============================] - 2s 18ms/step - loss: 0.0056: 1s\n",
      "Epoch 37/50\n",
      "88/88 [==============================] - 2s 20ms/step - loss: 0.0054: 0s - loss: - ETA: 0s - lo\n",
      "Epoch 38/50\n",
      "88/88 [==============================] - 2s 21ms/step - loss: 0.0053\n",
      "Epoch 39/50\n",
      "88/88 [==============================] - 1s 16ms/step - loss: 0.0050\n",
      "Epoch 40/50\n",
      "88/88 [==============================] - 2s 20ms/step - loss: 0.0051\n",
      "Epoch 41/50\n",
      "88/88 [==============================] - 2s 19ms/step - loss: 0.0047: 0s - \n",
      "Epoch 42/50\n",
      "88/88 [==============================] - 1s 16ms/step - loss: 0.0050\n",
      "Epoch 43/50\n",
      "88/88 [==============================] - 1s 17ms/step - loss: 0.0047: 0s - loss: 0.\n",
      "Epoch 44/50\n",
      "88/88 [==============================] - 2s 20ms/step - loss: 0.0045ETA: 2s - loss: 0 - ETA\n",
      "Epoch 45/50\n",
      "88/88 [==============================] - 2s 18ms/step - loss: 0.0043\n",
      "Epoch 46/50\n",
      "88/88 [==============================] - 2s 17ms/step - loss: 0.0043\n",
      "Epoch 47/50\n",
      "88/88 [==============================] - 2s 20ms/step - loss: 0.0042\n",
      "Epoch 48/50\n",
      "88/88 [==============================] - 1s 17ms/step - loss: 0.0042\n",
      "Epoch 49/50\n",
      "88/88 [==============================] - 1s 17ms/step - loss: 0.0040\n",
      "Epoch 50/50\n",
      "88/88 [==============================] - 2s 20ms/step - loss: 0.0040\n"
     ]
    },
    {
     "data": {
      "text/plain": [
       "<keras.callbacks.History at 0x173087aa310>"
      ]
     },
     "execution_count": 58,
     "metadata": {},
     "output_type": "execute_result"
    }
   ],
   "source": [
    "model.add(SimpleRNN(4,input_shape=(12,1)))\n",
    "model.add(Dense(1))\n",
    "model.compile(optimizer='adam',loss='mean_squared_error')\n",
    "model.fit(train_x,train_y,epochs=50,batch_size=1)"
   ]
  },
  {
   "cell_type": "code",
   "execution_count": 60,
   "metadata": {},
   "outputs": [],
   "source": [
    "test_pred=model.predict(test_x)"
   ]
  },
  {
   "cell_type": "code",
   "execution_count": 63,
   "metadata": {},
   "outputs": [],
   "source": [
    "test_pred=sc.inverse_transform(test_pred).ravel()"
   ]
  },
  {
   "cell_type": "code",
   "execution_count": 65,
   "metadata": {},
   "outputs": [],
   "source": [
    "train_pred=model.predict(train_x)\n",
    "train_pred=sc.inverse_transform(train_pred).ravel()"
   ]
  },
  {
   "cell_type": "code",
   "execution_count": 66,
   "metadata": {},
   "outputs": [],
   "source": [
    "test_true=sc.inverse_transform([test_y]).ravel()\n",
    "train_true=sc.inverse_transform([train_y]).ravel()"
   ]
  },
  {
   "cell_type": "code",
   "execution_count": 67,
   "metadata": {},
   "outputs": [],
   "source": [
    "import matplotlib.pyplot as plt"
   ]
  },
  {
   "cell_type": "code",
   "execution_count": 72,
   "metadata": {},
   "outputs": [
    {
     "data": {
      "text/plain": [
       "[<matplotlib.lines.Line2D at 0x1730a99e5e0>]"
      ]
     },
     "execution_count": 72,
     "metadata": {},
     "output_type": "execute_result"
    },
    {
     "data": {
      "image/png": "[encoded data removed]",
      "text/plain": [
       "<Figure size 432x288 with 1 Axes>"
      ]
     },
     "metadata": {
      "needs_background": "light"
     },
     "output_type": "display_data"
    }
   ],
   "source": [
    "plt.plot(true)\n",
    "plt.plot(pred)"
   ]
  },
  {
   "cell_type": "code",
   "execution_count": 71,
   "metadata": {},
   "outputs": [],
   "source": [
    "pred=np.concatenate((train_pred,test_pred))\n",
    "true=np.concatenate((train_true,test_true))"
   ]
  },
  {
   "cell_type": "code",
   "execution_count": null,
   "metadata": {},
   "outputs": [],
   "source": []
  }
 ],
 "metadata": {
  "kernelspec": {
   "display_name": "Python 3",
   "language": "python",
   "name": "python3"
  },
  "language_info": {
   "codemirror_mode": {
    "name": "ipython",
    "version": 3
   },
   "file_extension": ".py",
   "mimetype": "text/x-python",
   "name": "python",
   "nbconvert_exporter": "python",
   "pygments_lexer": "ipython3",
   "version": "3.8.5"
  }
 },
 "nbformat": 4,
 "nbformat_minor": 4
}
